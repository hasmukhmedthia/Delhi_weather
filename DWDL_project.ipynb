{
  "nbformat": 4,
  "nbformat_minor": 0,
  "metadata": {
    "colab": {
      "name": "DWDL_project.ipynb",
      "provenance": []
    },
    "kernelspec": {
      "name": "python3",
      "display_name": "Python 3"
    },
    "language_info": {
      "name": "python"
    }
  },
  "cells": [
    {
      "cell_type": "code",
      "metadata": {
        "id": "6vHOF7pBT6St"
      },
      "source": [
        "# importing libraries\n",
        "import numpy as np \n",
        "import pandas as pd \n",
        "import os"
      ],
      "execution_count": 3,
      "outputs": []
    },
    {
      "cell_type": "code",
      "metadata": {
        "colab": {
          "base_uri": "https://localhost:8080/",
          "height": 307
        },
        "id": "txJtpHlOUT1H",
        "outputId": "4f07cd56-551f-4fcb-e07b-2e8ce81b38d9"
      },
      "source": [
        "# lets start by reading the csv file and then we will take a peek into it data\n",
        "\n",
        "data=pd.read_csv('testset.csv',index_col=False)\n",
        "\n",
        "data.sample(5)"
      ],
      "execution_count": 2,
      "outputs": [
        {
          "output_type": "execute_result",
          "data": {
            "text/html": [
              "<div>\n",
              "<style scoped>\n",
              "    .dataframe tbody tr th:only-of-type {\n",
              "        vertical-align: middle;\n",
              "    }\n",
              "\n",
              "    .dataframe tbody tr th {\n",
              "        vertical-align: top;\n",
              "    }\n",
              "\n",
              "    .dataframe thead th {\n",
              "        text-align: right;\n",
              "    }\n",
              "</style>\n",
              "<table border=\"1\" class=\"dataframe\">\n",
              "  <thead>\n",
              "    <tr style=\"text-align: right;\">\n",
              "      <th></th>\n",
              "      <th>datetime_utc</th>\n",
              "      <th>_conds</th>\n",
              "      <th>_dewptm</th>\n",
              "      <th>_fog</th>\n",
              "      <th>_hail</th>\n",
              "      <th>_heatindexm</th>\n",
              "      <th>_hum</th>\n",
              "      <th>_precipm</th>\n",
              "      <th>_pressurem</th>\n",
              "      <th>_rain</th>\n",
              "      <th>_snow</th>\n",
              "      <th>_tempm</th>\n",
              "      <th>_thunder</th>\n",
              "      <th>_tornado</th>\n",
              "      <th>_vism</th>\n",
              "      <th>_wdird</th>\n",
              "      <th>_wdire</th>\n",
              "      <th>_wgustm</th>\n",
              "      <th>_windchillm</th>\n",
              "      <th>_wspdm</th>\n",
              "    </tr>\n",
              "  </thead>\n",
              "  <tbody>\n",
              "    <tr>\n",
              "      <th>4070</th>\n",
              "      <td>19970525-01:00</td>\n",
              "      <td>Haze</td>\n",
              "      <td>17.0</td>\n",
              "      <td>0</td>\n",
              "      <td>0</td>\n",
              "      <td>29.4</td>\n",
              "      <td>48.0</td>\n",
              "      <td>NaN</td>\n",
              "      <td>1004.0</td>\n",
              "      <td>0</td>\n",
              "      <td>0</td>\n",
              "      <td>29.0</td>\n",
              "      <td>0</td>\n",
              "      <td>0</td>\n",
              "      <td>4.0</td>\n",
              "      <td>80.0</td>\n",
              "      <td>East</td>\n",
              "      <td>NaN</td>\n",
              "      <td>NaN</td>\n",
              "      <td>5.6</td>\n",
              "    </tr>\n",
              "    <tr>\n",
              "      <th>59849</th>\n",
              "      <td>20040601-07:00</td>\n",
              "      <td>Haze</td>\n",
              "      <td>17.0</td>\n",
              "      <td>0</td>\n",
              "      <td>0</td>\n",
              "      <td>43.6</td>\n",
              "      <td>23.0</td>\n",
              "      <td>NaN</td>\n",
              "      <td>1004.0</td>\n",
              "      <td>0</td>\n",
              "      <td>0</td>\n",
              "      <td>42.0</td>\n",
              "      <td>0</td>\n",
              "      <td>0</td>\n",
              "      <td>3.5</td>\n",
              "      <td>240.0</td>\n",
              "      <td>WSW</td>\n",
              "      <td>NaN</td>\n",
              "      <td>NaN</td>\n",
              "      <td>9.3</td>\n",
              "    </tr>\n",
              "    <tr>\n",
              "      <th>83231</th>\n",
              "      <td>20120602-12:00</td>\n",
              "      <td>Widespread Dust</td>\n",
              "      <td>18.0</td>\n",
              "      <td>0</td>\n",
              "      <td>0</td>\n",
              "      <td>NaN</td>\n",
              "      <td>23.0</td>\n",
              "      <td>NaN</td>\n",
              "      <td>993.0</td>\n",
              "      <td>0</td>\n",
              "      <td>0</td>\n",
              "      <td>38.0</td>\n",
              "      <td>0</td>\n",
              "      <td>0</td>\n",
              "      <td>2.0</td>\n",
              "      <td>320.0</td>\n",
              "      <td>NW</td>\n",
              "      <td>NaN</td>\n",
              "      <td>NaN</td>\n",
              "      <td>16.7</td>\n",
              "    </tr>\n",
              "    <tr>\n",
              "      <th>32678</th>\n",
              "      <td>20020221-14:30</td>\n",
              "      <td>Smoke</td>\n",
              "      <td>12.0</td>\n",
              "      <td>0</td>\n",
              "      <td>0</td>\n",
              "      <td>NaN</td>\n",
              "      <td>50.0</td>\n",
              "      <td>NaN</td>\n",
              "      <td>1016.0</td>\n",
              "      <td>0</td>\n",
              "      <td>0</td>\n",
              "      <td>23.0</td>\n",
              "      <td>0</td>\n",
              "      <td>0</td>\n",
              "      <td>3.5</td>\n",
              "      <td>120.0</td>\n",
              "      <td>ESE</td>\n",
              "      <td>NaN</td>\n",
              "      <td>NaN</td>\n",
              "      <td>5.6</td>\n",
              "    </tr>\n",
              "    <tr>\n",
              "      <th>9708</th>\n",
              "      <td>19980726-19:30</td>\n",
              "      <td>Haze</td>\n",
              "      <td>28.0</td>\n",
              "      <td>0</td>\n",
              "      <td>0</td>\n",
              "      <td>43.9</td>\n",
              "      <td>79.0</td>\n",
              "      <td>NaN</td>\n",
              "      <td>999.0</td>\n",
              "      <td>0</td>\n",
              "      <td>0</td>\n",
              "      <td>32.0</td>\n",
              "      <td>0</td>\n",
              "      <td>0</td>\n",
              "      <td>2.2</td>\n",
              "      <td>150.0</td>\n",
              "      <td>SSE</td>\n",
              "      <td>NaN</td>\n",
              "      <td>NaN</td>\n",
              "      <td>3.7</td>\n",
              "    </tr>\n",
              "  </tbody>\n",
              "</table>\n",
              "</div>"
            ],
            "text/plain": [
              "         datetime_utc           _conds  ...   _windchillm   _wspdm\n",
              "4070   19970525-01:00             Haze  ...           NaN      5.6\n",
              "59849  20040601-07:00             Haze  ...           NaN      9.3\n",
              "83231  20120602-12:00  Widespread Dust  ...           NaN     16.7\n",
              "32678  20020221-14:30            Smoke  ...           NaN      5.6\n",
              "9708   19980726-19:30             Haze  ...           NaN      3.7\n",
              "\n",
              "[5 rows x 20 columns]"
            ]
          },
          "metadata": {},
          "execution_count": 2
        }
      ]
    },
    {
      "cell_type": "code",
      "metadata": {
        "colab": {
          "base_uri": "https://localhost:8080/",
          "height": 315
        },
        "id": "AHbftOOFUnA9",
        "outputId": "21e0bc8f-7395-4685-8f77-ff61de955d9f"
      },
      "source": [
        "# let's take a look at the overall data\n",
        "\n",
        "data.describe()"
      ],
      "execution_count": 4,
      "outputs": [
        {
          "output_type": "execute_result",
          "data": {
            "text/html": [
              "<div>\n",
              "<style scoped>\n",
              "    .dataframe tbody tr th:only-of-type {\n",
              "        vertical-align: middle;\n",
              "    }\n",
              "\n",
              "    .dataframe tbody tr th {\n",
              "        vertical-align: top;\n",
              "    }\n",
              "\n",
              "    .dataframe thead th {\n",
              "        text-align: right;\n",
              "    }\n",
              "</style>\n",
              "<table border=\"1\" class=\"dataframe\">\n",
              "  <thead>\n",
              "    <tr style=\"text-align: right;\">\n",
              "      <th></th>\n",
              "      <th>_dewptm</th>\n",
              "      <th>_fog</th>\n",
              "      <th>_hail</th>\n",
              "      <th>_heatindexm</th>\n",
              "      <th>_hum</th>\n",
              "      <th>_precipm</th>\n",
              "      <th>_pressurem</th>\n",
              "      <th>_rain</th>\n",
              "      <th>_snow</th>\n",
              "      <th>_tempm</th>\n",
              "      <th>_thunder</th>\n",
              "      <th>_tornado</th>\n",
              "      <th>_vism</th>\n",
              "      <th>_wdird</th>\n",
              "      <th>_wgustm</th>\n",
              "      <th>_windchillm</th>\n",
              "      <th>_wspdm</th>\n",
              "    </tr>\n",
              "  </thead>\n",
              "  <tbody>\n",
              "    <tr>\n",
              "      <th>count</th>\n",
              "      <td>100369.000000</td>\n",
              "      <td>100990.000000</td>\n",
              "      <td>100990.000000</td>\n",
              "      <td>29155.000000</td>\n",
              "      <td>100233.000000</td>\n",
              "      <td>0.0</td>\n",
              "      <td>1.007580e+05</td>\n",
              "      <td>100990.000000</td>\n",
              "      <td>100990.000000</td>\n",
              "      <td>100317.000000</td>\n",
              "      <td>100990.000000</td>\n",
              "      <td>100990.00000</td>\n",
              "      <td>96562.000000</td>\n",
              "      <td>86235.000000</td>\n",
              "      <td>1072.000000</td>\n",
              "      <td>579.000000</td>\n",
              "      <td>98632.000000</td>\n",
              "    </tr>\n",
              "    <tr>\n",
              "      <th>mean</th>\n",
              "      <td>15.741205</td>\n",
              "      <td>0.069690</td>\n",
              "      <td>0.000129</td>\n",
              "      <td>35.651710</td>\n",
              "      <td>57.909481</td>\n",
              "      <td>NaN</td>\n",
              "      <td>1.932331e+03</td>\n",
              "      <td>0.026260</td>\n",
              "      <td>0.000010</td>\n",
              "      <td>25.451269</td>\n",
              "      <td>0.009427</td>\n",
              "      <td>0.00002</td>\n",
              "      <td>2.402774</td>\n",
              "      <td>163.549974</td>\n",
              "      <td>37.671175</td>\n",
              "      <td>5.713817</td>\n",
              "      <td>7.678463</td>\n",
              "    </tr>\n",
              "    <tr>\n",
              "      <th>std</th>\n",
              "      <td>7.058587</td>\n",
              "      <td>0.254625</td>\n",
              "      <td>0.011345</td>\n",
              "      <td>5.015384</td>\n",
              "      <td>23.807771</td>\n",
              "      <td>NaN</td>\n",
              "      <td>3.183786e+05</td>\n",
              "      <td>0.159908</td>\n",
              "      <td>0.003147</td>\n",
              "      <td>8.482859</td>\n",
              "      <td>0.096633</td>\n",
              "      <td>0.00445</td>\n",
              "      <td>20.746028</td>\n",
              "      <td>120.002076</td>\n",
              "      <td>6.848666</td>\n",
              "      <td>1.203290</td>\n",
              "      <td>11.932157</td>\n",
              "    </tr>\n",
              "    <tr>\n",
              "      <th>min</th>\n",
              "      <td>-24.000000</td>\n",
              "      <td>0.000000</td>\n",
              "      <td>0.000000</td>\n",
              "      <td>26.800000</td>\n",
              "      <td>4.000000</td>\n",
              "      <td>NaN</td>\n",
              "      <td>-9.999000e+03</td>\n",
              "      <td>0.000000</td>\n",
              "      <td>0.000000</td>\n",
              "      <td>1.000000</td>\n",
              "      <td>0.000000</td>\n",
              "      <td>0.00000</td>\n",
              "      <td>0.000000</td>\n",
              "      <td>0.000000</td>\n",
              "      <td>25.900000</td>\n",
              "      <td>2.100000</td>\n",
              "      <td>0.000000</td>\n",
              "    </tr>\n",
              "    <tr>\n",
              "      <th>25%</th>\n",
              "      <td>10.000000</td>\n",
              "      <td>0.000000</td>\n",
              "      <td>0.000000</td>\n",
              "      <td>31.700000</td>\n",
              "      <td>39.000000</td>\n",
              "      <td>NaN</td>\n",
              "      <td>1.002000e+03</td>\n",
              "      <td>0.000000</td>\n",
              "      <td>0.000000</td>\n",
              "      <td>19.000000</td>\n",
              "      <td>0.000000</td>\n",
              "      <td>0.00000</td>\n",
              "      <td>1.500000</td>\n",
              "      <td>50.000000</td>\n",
              "      <td>33.300000</td>\n",
              "      <td>4.900000</td>\n",
              "      <td>0.000000</td>\n",
              "    </tr>\n",
              "    <tr>\n",
              "      <th>50%</th>\n",
              "      <td>15.000000</td>\n",
              "      <td>0.000000</td>\n",
              "      <td>0.000000</td>\n",
              "      <td>35.100000</td>\n",
              "      <td>59.000000</td>\n",
              "      <td>NaN</td>\n",
              "      <td>1.008000e+03</td>\n",
              "      <td>0.000000</td>\n",
              "      <td>0.000000</td>\n",
              "      <td>27.000000</td>\n",
              "      <td>0.000000</td>\n",
              "      <td>0.00000</td>\n",
              "      <td>2.000000</td>\n",
              "      <td>160.000000</td>\n",
              "      <td>37.000000</td>\n",
              "      <td>6.100000</td>\n",
              "      <td>7.400000</td>\n",
              "    </tr>\n",
              "    <tr>\n",
              "      <th>75%</th>\n",
              "      <td>22.000000</td>\n",
              "      <td>0.000000</td>\n",
              "      <td>0.000000</td>\n",
              "      <td>39.200000</td>\n",
              "      <td>78.000000</td>\n",
              "      <td>NaN</td>\n",
              "      <td>1.014000e+03</td>\n",
              "      <td>0.000000</td>\n",
              "      <td>0.000000</td>\n",
              "      <td>32.000000</td>\n",
              "      <td>0.000000</td>\n",
              "      <td>0.00000</td>\n",
              "      <td>3.000000</td>\n",
              "      <td>270.000000</td>\n",
              "      <td>40.700000</td>\n",
              "      <td>6.800000</td>\n",
              "      <td>11.100000</td>\n",
              "    </tr>\n",
              "    <tr>\n",
              "      <th>max</th>\n",
              "      <td>75.000000</td>\n",
              "      <td>1.000000</td>\n",
              "      <td>1.000000</td>\n",
              "      <td>73.600000</td>\n",
              "      <td>243.000000</td>\n",
              "      <td>NaN</td>\n",
              "      <td>1.010614e+08</td>\n",
              "      <td>1.000000</td>\n",
              "      <td>1.000000</td>\n",
              "      <td>90.000000</td>\n",
              "      <td>1.000000</td>\n",
              "      <td>1.00000</td>\n",
              "      <td>6436.000000</td>\n",
              "      <td>960.000000</td>\n",
              "      <td>92.600000</td>\n",
              "      <td>7.300000</td>\n",
              "      <td>1514.900000</td>\n",
              "    </tr>\n",
              "  </tbody>\n",
              "</table>\n",
              "</div>"
            ],
            "text/plain": [
              "             _dewptm           _fog  ...   _windchillm        _wspdm\n",
              "count  100369.000000  100990.000000  ...    579.000000  98632.000000\n",
              "mean       15.741205       0.069690  ...      5.713817      7.678463\n",
              "std         7.058587       0.254625  ...      1.203290     11.932157\n",
              "min       -24.000000       0.000000  ...      2.100000      0.000000\n",
              "25%        10.000000       0.000000  ...      4.900000      0.000000\n",
              "50%        15.000000       0.000000  ...      6.100000      7.400000\n",
              "75%        22.000000       0.000000  ...      6.800000     11.100000\n",
              "max        75.000000       1.000000  ...      7.300000   1514.900000\n",
              "\n",
              "[8 rows x 17 columns]"
            ]
          },
          "metadata": {},
          "execution_count": 4
        }
      ]
    },
    {
      "cell_type": "code",
      "metadata": {
        "colab": {
          "base_uri": "https://localhost:8080/",
          "height": 0
        },
        "id": "m8aMoIXpUnEV",
        "outputId": "458d30d9-bc0d-43e1-d173-ca14d3a0240a"
      },
      "source": [
        "# most of the data is numeric but we have lot's of missing values , let's take a better look at\n",
        "\n",
        "data.info()"
      ],
      "execution_count": 5,
      "outputs": [
        {
          "output_type": "stream",
          "name": "stdout",
          "text": [
            "<class 'pandas.core.frame.DataFrame'>\n",
            "RangeIndex: 100990 entries, 0 to 100989\n",
            "Data columns (total 20 columns):\n",
            " #   Column        Non-Null Count   Dtype  \n",
            "---  ------        --------------   -----  \n",
            " 0   datetime_utc  100990 non-null  object \n",
            " 1    _conds       100918 non-null  object \n",
            " 2    _dewptm      100369 non-null  float64\n",
            " 3    _fog         100990 non-null  int64  \n",
            " 4    _hail        100990 non-null  int64  \n",
            " 5    _heatindexm  29155 non-null   float64\n",
            " 6    _hum         100233 non-null  float64\n",
            " 7    _precipm     0 non-null       float64\n",
            " 8    _pressurem   100758 non-null  float64\n",
            " 9    _rain        100990 non-null  int64  \n",
            " 10   _snow        100990 non-null  int64  \n",
            " 11   _tempm       100317 non-null  float64\n",
            " 12   _thunder     100990 non-null  int64  \n",
            " 13   _tornado     100990 non-null  int64  \n",
            " 14   _vism        96562 non-null   float64\n",
            " 15   _wdird       86235 non-null   float64\n",
            " 16   _wdire       86235 non-null   object \n",
            " 17   _wgustm      1072 non-null    float64\n",
            " 18   _windchillm  579 non-null     float64\n",
            " 19   _wspdm       98632 non-null   float64\n",
            "dtypes: float64(11), int64(6), object(3)\n",
            "memory usage: 15.4+ MB\n"
          ]
        }
      ]
    },
    {
      "cell_type": "code",
      "metadata": {
        "colab": {
          "base_uri": "https://localhost:8080/",
          "height": 203
        },
        "id": "MMx3AXMLUnHm",
        "outputId": "92d1524e-1105-4174-e8f9-1bfcd5e74c03"
      },
      "source": [
        "# as we can see some of the columns have lot's of missing values i.e precipm( probably precipitation)\n",
        "\n",
        "# let's look at the non numeric columns and see what we have \n",
        "\n",
        "obj_cols=data.select_dtypes(include='object')\n",
        "\n",
        "obj_cols.sample(5)"
      ],
      "execution_count": 6,
      "outputs": [
        {
          "output_type": "execute_result",
          "data": {
            "text/html": [
              "<div>\n",
              "<style scoped>\n",
              "    .dataframe tbody tr th:only-of-type {\n",
              "        vertical-align: middle;\n",
              "    }\n",
              "\n",
              "    .dataframe tbody tr th {\n",
              "        vertical-align: top;\n",
              "    }\n",
              "\n",
              "    .dataframe thead th {\n",
              "        text-align: right;\n",
              "    }\n",
              "</style>\n",
              "<table border=\"1\" class=\"dataframe\">\n",
              "  <thead>\n",
              "    <tr style=\"text-align: right;\">\n",
              "      <th></th>\n",
              "      <th>datetime_utc</th>\n",
              "      <th>_conds</th>\n",
              "      <th>_wdire</th>\n",
              "    </tr>\n",
              "  </thead>\n",
              "  <tbody>\n",
              "    <tr>\n",
              "      <th>93614</th>\n",
              "      <td>20160223-08:00</td>\n",
              "      <td>Haze</td>\n",
              "      <td>WSW</td>\n",
              "    </tr>\n",
              "    <tr>\n",
              "      <th>38240</th>\n",
              "      <td>20021020-02:30</td>\n",
              "      <td>Smoke</td>\n",
              "      <td>SE</td>\n",
              "    </tr>\n",
              "    <tr>\n",
              "      <th>33975</th>\n",
              "      <td>20020417-13:30</td>\n",
              "      <td>Haze</td>\n",
              "      <td>NW</td>\n",
              "    </tr>\n",
              "    <tr>\n",
              "      <th>100404</th>\n",
              "      <td>20170221-13:00</td>\n",
              "      <td>Haze</td>\n",
              "      <td>West</td>\n",
              "    </tr>\n",
              "    <tr>\n",
              "      <th>7181</th>\n",
              "      <td>19971028-05:00</td>\n",
              "      <td>Haze</td>\n",
              "      <td>North</td>\n",
              "    </tr>\n",
              "  </tbody>\n",
              "</table>\n",
              "</div>"
            ],
            "text/plain": [
              "          datetime_utc  _conds  _wdire\n",
              "93614   20160223-08:00    Haze     WSW\n",
              "38240   20021020-02:30   Smoke      SE\n",
              "33975   20020417-13:30    Haze      NW\n",
              "100404  20170221-13:00    Haze    West\n",
              "7181    19971028-05:00    Haze   North"
            ]
          },
          "metadata": {},
          "execution_count": 6
        }
      ]
    },
    {
      "cell_type": "code",
      "metadata": {
        "colab": {
          "base_uri": "https://localhost:8080/",
          "height": 0
        },
        "id": "DNboviEHUnKt",
        "outputId": "73824d90-5396-44b1-897d-dadbb83168c7"
      },
      "source": [
        "# looks as if the dateime_utc columns is present in the stirng format let's convert it to datetime \n",
        "\n",
        "data['datetime_utc']=pd.to_datetime(data['datetime_utc'])\n",
        "\n",
        "data.datetime_utc.sample(5)"
      ],
      "execution_count": 7,
      "outputs": [
        {
          "output_type": "execute_result",
          "data": {
            "text/plain": [
              "72566   2008-07-27 15:00:00\n",
              "72669   2008-08-09 21:00:00\n",
              "30483   2001-11-20 04:30:00\n",
              "92154   2015-09-24 09:00:00\n",
              "18928   2000-06-15 01:30:00\n",
              "Name: datetime_utc, dtype: datetime64[ns]"
            ]
          },
          "metadata": {},
          "execution_count": 7
        }
      ]
    },
    {
      "cell_type": "code",
      "metadata": {
        "colab": {
          "base_uri": "https://localhost:8080/",
          "height": 545
        },
        "id": "6PBHNPWlUnNs",
        "outputId": "e8f85eee-c645-49f8-f209-70e0530e75d2"
      },
      "source": [
        "data.head(10)"
      ],
      "execution_count": 8,
      "outputs": [
        {
          "output_type": "execute_result",
          "data": {
            "text/html": [
              "<div>\n",
              "<style scoped>\n",
              "    .dataframe tbody tr th:only-of-type {\n",
              "        vertical-align: middle;\n",
              "    }\n",
              "\n",
              "    .dataframe tbody tr th {\n",
              "        vertical-align: top;\n",
              "    }\n",
              "\n",
              "    .dataframe thead th {\n",
              "        text-align: right;\n",
              "    }\n",
              "</style>\n",
              "<table border=\"1\" class=\"dataframe\">\n",
              "  <thead>\n",
              "    <tr style=\"text-align: right;\">\n",
              "      <th></th>\n",
              "      <th>datetime_utc</th>\n",
              "      <th>_conds</th>\n",
              "      <th>_dewptm</th>\n",
              "      <th>_fog</th>\n",
              "      <th>_hail</th>\n",
              "      <th>_heatindexm</th>\n",
              "      <th>_hum</th>\n",
              "      <th>_precipm</th>\n",
              "      <th>_pressurem</th>\n",
              "      <th>_rain</th>\n",
              "      <th>_snow</th>\n",
              "      <th>_tempm</th>\n",
              "      <th>_thunder</th>\n",
              "      <th>_tornado</th>\n",
              "      <th>_vism</th>\n",
              "      <th>_wdird</th>\n",
              "      <th>_wdire</th>\n",
              "      <th>_wgustm</th>\n",
              "      <th>_windchillm</th>\n",
              "      <th>_wspdm</th>\n",
              "    </tr>\n",
              "  </thead>\n",
              "  <tbody>\n",
              "    <tr>\n",
              "      <th>0</th>\n",
              "      <td>1996-11-01 11:00:00</td>\n",
              "      <td>Smoke</td>\n",
              "      <td>9.0</td>\n",
              "      <td>0</td>\n",
              "      <td>0</td>\n",
              "      <td>NaN</td>\n",
              "      <td>27.0</td>\n",
              "      <td>NaN</td>\n",
              "      <td>1010.0</td>\n",
              "      <td>0</td>\n",
              "      <td>0</td>\n",
              "      <td>30.0</td>\n",
              "      <td>0</td>\n",
              "      <td>0</td>\n",
              "      <td>5.0</td>\n",
              "      <td>280.0</td>\n",
              "      <td>West</td>\n",
              "      <td>NaN</td>\n",
              "      <td>NaN</td>\n",
              "      <td>7.4</td>\n",
              "    </tr>\n",
              "    <tr>\n",
              "      <th>1</th>\n",
              "      <td>1996-11-01 12:00:00</td>\n",
              "      <td>Smoke</td>\n",
              "      <td>10.0</td>\n",
              "      <td>0</td>\n",
              "      <td>0</td>\n",
              "      <td>NaN</td>\n",
              "      <td>32.0</td>\n",
              "      <td>NaN</td>\n",
              "      <td>-9999.0</td>\n",
              "      <td>0</td>\n",
              "      <td>0</td>\n",
              "      <td>28.0</td>\n",
              "      <td>0</td>\n",
              "      <td>0</td>\n",
              "      <td>NaN</td>\n",
              "      <td>0.0</td>\n",
              "      <td>North</td>\n",
              "      <td>NaN</td>\n",
              "      <td>NaN</td>\n",
              "      <td>NaN</td>\n",
              "    </tr>\n",
              "    <tr>\n",
              "      <th>2</th>\n",
              "      <td>1996-11-01 13:00:00</td>\n",
              "      <td>Smoke</td>\n",
              "      <td>11.0</td>\n",
              "      <td>0</td>\n",
              "      <td>0</td>\n",
              "      <td>NaN</td>\n",
              "      <td>44.0</td>\n",
              "      <td>NaN</td>\n",
              "      <td>-9999.0</td>\n",
              "      <td>0</td>\n",
              "      <td>0</td>\n",
              "      <td>24.0</td>\n",
              "      <td>0</td>\n",
              "      <td>0</td>\n",
              "      <td>NaN</td>\n",
              "      <td>0.0</td>\n",
              "      <td>North</td>\n",
              "      <td>NaN</td>\n",
              "      <td>NaN</td>\n",
              "      <td>NaN</td>\n",
              "    </tr>\n",
              "    <tr>\n",
              "      <th>3</th>\n",
              "      <td>1996-11-01 14:00:00</td>\n",
              "      <td>Smoke</td>\n",
              "      <td>10.0</td>\n",
              "      <td>0</td>\n",
              "      <td>0</td>\n",
              "      <td>NaN</td>\n",
              "      <td>41.0</td>\n",
              "      <td>NaN</td>\n",
              "      <td>1010.0</td>\n",
              "      <td>0</td>\n",
              "      <td>0</td>\n",
              "      <td>24.0</td>\n",
              "      <td>0</td>\n",
              "      <td>0</td>\n",
              "      <td>2.0</td>\n",
              "      <td>0.0</td>\n",
              "      <td>North</td>\n",
              "      <td>NaN</td>\n",
              "      <td>NaN</td>\n",
              "      <td>NaN</td>\n",
              "    </tr>\n",
              "    <tr>\n",
              "      <th>4</th>\n",
              "      <td>1996-11-01 16:00:00</td>\n",
              "      <td>Smoke</td>\n",
              "      <td>11.0</td>\n",
              "      <td>0</td>\n",
              "      <td>0</td>\n",
              "      <td>NaN</td>\n",
              "      <td>47.0</td>\n",
              "      <td>NaN</td>\n",
              "      <td>1011.0</td>\n",
              "      <td>0</td>\n",
              "      <td>0</td>\n",
              "      <td>23.0</td>\n",
              "      <td>0</td>\n",
              "      <td>0</td>\n",
              "      <td>1.2</td>\n",
              "      <td>0.0</td>\n",
              "      <td>North</td>\n",
              "      <td>NaN</td>\n",
              "      <td>NaN</td>\n",
              "      <td>0.0</td>\n",
              "    </tr>\n",
              "    <tr>\n",
              "      <th>5</th>\n",
              "      <td>1996-11-01 17:00:00</td>\n",
              "      <td>Smoke</td>\n",
              "      <td>12.0</td>\n",
              "      <td>0</td>\n",
              "      <td>0</td>\n",
              "      <td>NaN</td>\n",
              "      <td>56.0</td>\n",
              "      <td>NaN</td>\n",
              "      <td>1011.0</td>\n",
              "      <td>0</td>\n",
              "      <td>0</td>\n",
              "      <td>21.0</td>\n",
              "      <td>0</td>\n",
              "      <td>0</td>\n",
              "      <td>NaN</td>\n",
              "      <td>0.0</td>\n",
              "      <td>North</td>\n",
              "      <td>NaN</td>\n",
              "      <td>NaN</td>\n",
              "      <td>NaN</td>\n",
              "    </tr>\n",
              "    <tr>\n",
              "      <th>6</th>\n",
              "      <td>1996-11-01 18:00:00</td>\n",
              "      <td>Smoke</td>\n",
              "      <td>13.0</td>\n",
              "      <td>0</td>\n",
              "      <td>0</td>\n",
              "      <td>NaN</td>\n",
              "      <td>60.0</td>\n",
              "      <td>NaN</td>\n",
              "      <td>1010.0</td>\n",
              "      <td>0</td>\n",
              "      <td>0</td>\n",
              "      <td>21.0</td>\n",
              "      <td>0</td>\n",
              "      <td>0</td>\n",
              "      <td>0.8</td>\n",
              "      <td>0.0</td>\n",
              "      <td>North</td>\n",
              "      <td>NaN</td>\n",
              "      <td>NaN</td>\n",
              "      <td>0.0</td>\n",
              "    </tr>\n",
              "    <tr>\n",
              "      <th>7</th>\n",
              "      <td>1996-11-01 19:00:00</td>\n",
              "      <td>Smoke</td>\n",
              "      <td>13.0</td>\n",
              "      <td>0</td>\n",
              "      <td>0</td>\n",
              "      <td>NaN</td>\n",
              "      <td>60.0</td>\n",
              "      <td>NaN</td>\n",
              "      <td>-9999.0</td>\n",
              "      <td>0</td>\n",
              "      <td>0</td>\n",
              "      <td>21.0</td>\n",
              "      <td>0</td>\n",
              "      <td>0</td>\n",
              "      <td>NaN</td>\n",
              "      <td>0.0</td>\n",
              "      <td>North</td>\n",
              "      <td>NaN</td>\n",
              "      <td>NaN</td>\n",
              "      <td>NaN</td>\n",
              "    </tr>\n",
              "    <tr>\n",
              "      <th>8</th>\n",
              "      <td>1996-11-01 20:00:00</td>\n",
              "      <td>Smoke</td>\n",
              "      <td>13.0</td>\n",
              "      <td>0</td>\n",
              "      <td>0</td>\n",
              "      <td>NaN</td>\n",
              "      <td>68.0</td>\n",
              "      <td>NaN</td>\n",
              "      <td>-9999.0</td>\n",
              "      <td>0</td>\n",
              "      <td>0</td>\n",
              "      <td>19.0</td>\n",
              "      <td>0</td>\n",
              "      <td>0</td>\n",
              "      <td>NaN</td>\n",
              "      <td>0.0</td>\n",
              "      <td>North</td>\n",
              "      <td>NaN</td>\n",
              "      <td>NaN</td>\n",
              "      <td>NaN</td>\n",
              "    </tr>\n",
              "    <tr>\n",
              "      <th>9</th>\n",
              "      <td>1996-11-01 21:00:00</td>\n",
              "      <td>Smoke</td>\n",
              "      <td>13.0</td>\n",
              "      <td>0</td>\n",
              "      <td>0</td>\n",
              "      <td>NaN</td>\n",
              "      <td>68.0</td>\n",
              "      <td>NaN</td>\n",
              "      <td>1010.0</td>\n",
              "      <td>0</td>\n",
              "      <td>0</td>\n",
              "      <td>19.0</td>\n",
              "      <td>0</td>\n",
              "      <td>0</td>\n",
              "      <td>NaN</td>\n",
              "      <td>0.0</td>\n",
              "      <td>North</td>\n",
              "      <td>NaN</td>\n",
              "      <td>NaN</td>\n",
              "      <td>NaN</td>\n",
              "    </tr>\n",
              "  </tbody>\n",
              "</table>\n",
              "</div>"
            ],
            "text/plain": [
              "         datetime_utc  _conds   _dewptm  ...   _wgustm   _windchillm   _wspdm\n",
              "0 1996-11-01 11:00:00   Smoke       9.0  ...       NaN           NaN      7.4\n",
              "1 1996-11-01 12:00:00   Smoke      10.0  ...       NaN           NaN      NaN\n",
              "2 1996-11-01 13:00:00   Smoke      11.0  ...       NaN           NaN      NaN\n",
              "3 1996-11-01 14:00:00   Smoke      10.0  ...       NaN           NaN      NaN\n",
              "4 1996-11-01 16:00:00   Smoke      11.0  ...       NaN           NaN      0.0\n",
              "5 1996-11-01 17:00:00   Smoke      12.0  ...       NaN           NaN      NaN\n",
              "6 1996-11-01 18:00:00   Smoke      13.0  ...       NaN           NaN      0.0\n",
              "7 1996-11-01 19:00:00   Smoke      13.0  ...       NaN           NaN      NaN\n",
              "8 1996-11-01 20:00:00   Smoke      13.0  ...       NaN           NaN      NaN\n",
              "9 1996-11-01 21:00:00   Smoke      13.0  ...       NaN           NaN      NaN\n",
              "\n",
              "[10 rows x 20 columns]"
            ]
          },
          "metadata": {},
          "execution_count": 8
        }
      ]
    },
    {
      "cell_type": "code",
      "metadata": {
        "colab": {
          "base_uri": "https://localhost:8080/",
          "height": 0
        },
        "id": "YLkyuq3KUnQu",
        "outputId": "e2907d87-fabf-4540-f00f-b3a0d6e19146"
      },
      "source": [
        "# in this notebook is for learning univariate predicitons so for that reason we will try to predict temprature\n",
        "\n",
        "# let's take a deepr look at the temperature feature\n",
        "\n",
        "data.columns"
      ],
      "execution_count": 9,
      "outputs": [
        {
          "output_type": "execute_result",
          "data": {
            "text/plain": [
              "Index(['datetime_utc', ' _conds', ' _dewptm', ' _fog', ' _hail',\n",
              "       ' _heatindexm', ' _hum', ' _precipm', ' _pressurem', ' _rain', ' _snow',\n",
              "       ' _tempm', ' _thunder', ' _tornado', ' _vism', ' _wdird', ' _wdire',\n",
              "       ' _wgustm', ' _windchillm', ' _wspdm'],\n",
              "      dtype='object')"
            ]
          },
          "metadata": {},
          "execution_count": 9
        }
      ]
    },
    {
      "cell_type": "code",
      "metadata": {
        "colab": {
          "base_uri": "https://localhost:8080/",
          "height": 587
        },
        "id": "aa65ZLAPUnWd",
        "outputId": "f59e88e5-231a-45bd-d905-b122e32688d1"
      },
      "source": [
        "import matplotlib.pyplot as plt\n",
        "plt.figure(figsize=(20,10))\n",
        "data.iloc[:,11].value_counts(normalize=True,sort=True).plot(kind='bar')\n",
        "plt.xlabel('Temperature in degree Celsuis')\n",
        "plt.ylabel('% percentage')\n",
        "plt.show()\n"
      ],
      "execution_count": 10,
      "outputs": [
        {
          "output_type": "display_data",
          "data": {
            "image/png": "[encoded data removed]",
            "text/plain": [
              "<Figure size 1440x720 with 1 Axes>"
            ]
          },
          "metadata": {
            "needs_background": "light"
          }
        }
      ]
    },
    {
      "cell_type": "code",
      "metadata": {
        "colab": {
          "base_uri": "https://localhost:8080/",
          "height": 0
        },
        "id": "3f22gbYXUnaG",
        "outputId": "24d63ff9-4a63-4fb9-b292-7cb5c2f32280"
      },
      "source": [
        "# So we can see that most of the time the temperature lies in the range (20-35 )\n",
        "\n",
        "#'lets check if we have any missing values in our target column'\n",
        "\n",
        "data.iloc[:,11].isna().sum()\n",
        "\n",
        "# As we can see that there are 673 rows which have missing values for temperature feature \n"
      ],
      "execution_count": 11,
      "outputs": [
        {
          "output_type": "execute_result",
          "data": {
            "text/plain": [
              "673"
            ]
          },
          "metadata": {},
          "execution_count": 11
        }
      ]
    },
    {
      "cell_type": "code",
      "metadata": {
        "colab": {
          "base_uri": "https://localhost:8080/",
          "height": 0
        },
        "id": "nKBKh_UCUndV",
        "outputId": "dc760e85-14a1-4a0a-fce7-da6d31223ada"
      },
      "source": [
        "import datetime as dt\n",
        "# let's impute the misisng values by the mean of the month\n",
        "\n",
        "data['month']=pd.to_datetime(data.datetime_utc).dt.to_period('M')\n",
        "\n",
        "data.month.value_counts()"
      ],
      "execution_count": 12,
      "outputs": [
        {
          "output_type": "execute_result",
          "data": {
            "text/plain": [
              "2004-05    1401\n",
              "2003-10    1392\n",
              "2003-08    1372\n",
              "2003-12    1358\n",
              "2004-03    1353\n",
              "           ... \n",
              "2013-08     183\n",
              "2012-10     183\n",
              "1999-04     178\n",
              "2000-04       1\n",
              "2000-05       1\n",
              "Freq: M, Name: month, Length: 245, dtype: int64"
            ]
          },
          "metadata": {},
          "execution_count": 12
        }
      ]
    },
    {
      "cell_type": "code",
      "metadata": {
        "id": "9ykXk2hzVJQ3"
      },
      "source": [
        "aa=data.iloc[:,11].name"
      ],
      "execution_count": 13,
      "outputs": []
    },
    {
      "cell_type": "code",
      "metadata": {
        "id": "psOU51fTVJUX"
      },
      "source": [
        "ac=data.groupby(by='month')[aa].mean()"
      ],
      "execution_count": 14,
      "outputs": []
    },
    {
      "cell_type": "code",
      "metadata": {
        "id": "1QD0M1vLVJXx"
      },
      "source": [
        "ab=data[' _tempm'].isna()"
      ],
      "execution_count": 15,
      "outputs": []
    },
    {
      "cell_type": "code",
      "metadata": {
        "id": "pgTxKdr3VJas"
      },
      "source": [
        "data.loc[ab,[' _tempm']]=data.loc[ab,'month'].apply(lambda x:ac[x])"
      ],
      "execution_count": 16,
      "outputs": []
    },
    {
      "cell_type": "code",
      "metadata": {
        "colab": {
          "base_uri": "https://localhost:8080/",
          "height": 0
        },
        "id": "zR3-CJKjVJd9",
        "outputId": "7633b014-9b06-4728-b3ab-06d90bf2ad58"
      },
      "source": [
        "data[' _tempm'].isna().sum()"
      ],
      "execution_count": 17,
      "outputs": [
        {
          "output_type": "execute_result",
          "data": {
            "text/plain": [
              "0"
            ]
          },
          "metadata": {},
          "execution_count": 17
        }
      ]
    },
    {
      "cell_type": "code",
      "metadata": {
        "id": "ubFSxr1aVJhR"
      },
      "source": [
        "new_df=pd.DataFrame(list(data[' _tempm']),index=data.datetime_utc,columns=['temperature'])"
      ],
      "execution_count": 19,
      "outputs": []
    },
    {
      "cell_type": "code",
      "metadata": {
        "colab": {
          "base_uri": "https://localhost:8080/",
          "height": 447
        },
        "id": "kCzyPYlvVJkO",
        "outputId": "7d2ada21-1925-4c67-ec30-5f6c070514cd"
      },
      "source": [
        "new_df"
      ],
      "execution_count": 20,
      "outputs": [
        {
          "output_type": "execute_result",
          "data": {
            "text/html": [
              "<div>\n",
              "<style scoped>\n",
              "    .dataframe tbody tr th:only-of-type {\n",
              "        vertical-align: middle;\n",
              "    }\n",
              "\n",
              "    .dataframe tbody tr th {\n",
              "        vertical-align: top;\n",
              "    }\n",
              "\n",
              "    .dataframe thead th {\n",
              "        text-align: right;\n",
              "    }\n",
              "</style>\n",
              "<table border=\"1\" class=\"dataframe\">\n",
              "  <thead>\n",
              "    <tr style=\"text-align: right;\">\n",
              "      <th></th>\n",
              "      <th>temperature</th>\n",
              "    </tr>\n",
              "    <tr>\n",
              "      <th>datetime_utc</th>\n",
              "      <th></th>\n",
              "    </tr>\n",
              "  </thead>\n",
              "  <tbody>\n",
              "    <tr>\n",
              "      <th>1996-11-01 11:00:00</th>\n",
              "      <td>30.0</td>\n",
              "    </tr>\n",
              "    <tr>\n",
              "      <th>1996-11-01 12:00:00</th>\n",
              "      <td>28.0</td>\n",
              "    </tr>\n",
              "    <tr>\n",
              "      <th>1996-11-01 13:00:00</th>\n",
              "      <td>24.0</td>\n",
              "    </tr>\n",
              "    <tr>\n",
              "      <th>1996-11-01 14:00:00</th>\n",
              "      <td>24.0</td>\n",
              "    </tr>\n",
              "    <tr>\n",
              "      <th>1996-11-01 16:00:00</th>\n",
              "      <td>23.0</td>\n",
              "    </tr>\n",
              "    <tr>\n",
              "      <th>...</th>\n",
              "      <td>...</td>\n",
              "    </tr>\n",
              "    <tr>\n",
              "      <th>2017-04-24 06:00:00</th>\n",
              "      <td>34.0</td>\n",
              "    </tr>\n",
              "    <tr>\n",
              "      <th>2017-04-24 09:00:00</th>\n",
              "      <td>38.0</td>\n",
              "    </tr>\n",
              "    <tr>\n",
              "      <th>2017-04-24 12:00:00</th>\n",
              "      <td>36.0</td>\n",
              "    </tr>\n",
              "    <tr>\n",
              "      <th>2017-04-24 15:00:00</th>\n",
              "      <td>32.0</td>\n",
              "    </tr>\n",
              "    <tr>\n",
              "      <th>2017-04-24 18:00:00</th>\n",
              "      <td>30.0</td>\n",
              "    </tr>\n",
              "  </tbody>\n",
              "</table>\n",
              "<p>100990 rows × 1 columns</p>\n",
              "</div>"
            ],
            "text/plain": [
              "                     temperature\n",
              "datetime_utc                    \n",
              "1996-11-01 11:00:00         30.0\n",
              "1996-11-01 12:00:00         28.0\n",
              "1996-11-01 13:00:00         24.0\n",
              "1996-11-01 14:00:00         24.0\n",
              "1996-11-01 16:00:00         23.0\n",
              "...                          ...\n",
              "2017-04-24 06:00:00         34.0\n",
              "2017-04-24 09:00:00         38.0\n",
              "2017-04-24 12:00:00         36.0\n",
              "2017-04-24 15:00:00         32.0\n",
              "2017-04-24 18:00:00         30.0\n",
              "\n",
              "[100990 rows x 1 columns]"
            ]
          },
          "metadata": {},
          "execution_count": 20
        }
      ]
    },
    {
      "cell_type": "code",
      "metadata": {
        "id": "_5F24-i-VJnP"
      },
      "source": [
        "new_df=new_df.resample('D').mean()"
      ],
      "execution_count": 21,
      "outputs": []
    },
    {
      "cell_type": "code",
      "metadata": {
        "colab": {
          "base_uri": "https://localhost:8080/",
          "height": 447
        },
        "id": "DfamfeB1VJqX",
        "outputId": "cc956451-cf50-4ccf-d7e6-74b5f446a57c"
      },
      "source": [
        "new_df"
      ],
      "execution_count": 22,
      "outputs": [
        {
          "output_type": "execute_result",
          "data": {
            "text/html": [
              "<div>\n",
              "<style scoped>\n",
              "    .dataframe tbody tr th:only-of-type {\n",
              "        vertical-align: middle;\n",
              "    }\n",
              "\n",
              "    .dataframe tbody tr th {\n",
              "        vertical-align: top;\n",
              "    }\n",
              "\n",
              "    .dataframe thead th {\n",
              "        text-align: right;\n",
              "    }\n",
              "</style>\n",
              "<table border=\"1\" class=\"dataframe\">\n",
              "  <thead>\n",
              "    <tr style=\"text-align: right;\">\n",
              "      <th></th>\n",
              "      <th>temperature</th>\n",
              "    </tr>\n",
              "    <tr>\n",
              "      <th>datetime_utc</th>\n",
              "      <th></th>\n",
              "    </tr>\n",
              "  </thead>\n",
              "  <tbody>\n",
              "    <tr>\n",
              "      <th>1996-11-01</th>\n",
              "      <td>22.333333</td>\n",
              "    </tr>\n",
              "    <tr>\n",
              "      <th>1996-11-02</th>\n",
              "      <td>22.916667</td>\n",
              "    </tr>\n",
              "    <tr>\n",
              "      <th>1996-11-03</th>\n",
              "      <td>21.791667</td>\n",
              "    </tr>\n",
              "    <tr>\n",
              "      <th>1996-11-04</th>\n",
              "      <td>22.722222</td>\n",
              "    </tr>\n",
              "    <tr>\n",
              "      <th>1996-11-05</th>\n",
              "      <td>27.800000</td>\n",
              "    </tr>\n",
              "    <tr>\n",
              "      <th>...</th>\n",
              "      <td>...</td>\n",
              "    </tr>\n",
              "    <tr>\n",
              "      <th>2017-04-20</th>\n",
              "      <td>34.500000</td>\n",
              "    </tr>\n",
              "    <tr>\n",
              "      <th>2017-04-21</th>\n",
              "      <td>34.250000</td>\n",
              "    </tr>\n",
              "    <tr>\n",
              "      <th>2017-04-22</th>\n",
              "      <td>32.900000</td>\n",
              "    </tr>\n",
              "    <tr>\n",
              "      <th>2017-04-23</th>\n",
              "      <td>32.875000</td>\n",
              "    </tr>\n",
              "    <tr>\n",
              "      <th>2017-04-24</th>\n",
              "      <td>32.000000</td>\n",
              "    </tr>\n",
              "  </tbody>\n",
              "</table>\n",
              "<p>7480 rows × 1 columns</p>\n",
              "</div>"
            ],
            "text/plain": [
              "              temperature\n",
              "datetime_utc             \n",
              "1996-11-01      22.333333\n",
              "1996-11-02      22.916667\n",
              "1996-11-03      21.791667\n",
              "1996-11-04      22.722222\n",
              "1996-11-05      27.800000\n",
              "...                   ...\n",
              "2017-04-20      34.500000\n",
              "2017-04-21      34.250000\n",
              "2017-04-22      32.900000\n",
              "2017-04-23      32.875000\n",
              "2017-04-24      32.000000\n",
              "\n",
              "[7480 rows x 1 columns]"
            ]
          },
          "metadata": {},
          "execution_count": 22
        }
      ]
    },
    {
      "cell_type": "code",
      "metadata": {
        "id": "K0y9SsK5VJtQ"
      },
      "source": [
        "month_df=new_df.resample('M').mean()"
      ],
      "execution_count": 23,
      "outputs": []
    },
    {
      "cell_type": "code",
      "metadata": {
        "colab": {
          "base_uri": "https://localhost:8080/",
          "height": 447
        },
        "id": "lr76NVTfVJwh",
        "outputId": "73d03bf8-c918-425c-8c56-768e3d313a79"
      },
      "source": [
        "month_df"
      ],
      "execution_count": 24,
      "outputs": [
        {
          "output_type": "execute_result",
          "data": {
            "text/html": [
              "<div>\n",
              "<style scoped>\n",
              "    .dataframe tbody tr th:only-of-type {\n",
              "        vertical-align: middle;\n",
              "    }\n",
              "\n",
              "    .dataframe tbody tr th {\n",
              "        vertical-align: top;\n",
              "    }\n",
              "\n",
              "    .dataframe thead th {\n",
              "        text-align: right;\n",
              "    }\n",
              "</style>\n",
              "<table border=\"1\" class=\"dataframe\">\n",
              "  <thead>\n",
              "    <tr style=\"text-align: right;\">\n",
              "      <th></th>\n",
              "      <th>temperature</th>\n",
              "    </tr>\n",
              "    <tr>\n",
              "      <th>datetime_utc</th>\n",
              "      <th></th>\n",
              "    </tr>\n",
              "  </thead>\n",
              "  <tbody>\n",
              "    <tr>\n",
              "      <th>1996-11-30</th>\n",
              "      <td>19.565236</td>\n",
              "    </tr>\n",
              "    <tr>\n",
              "      <th>1996-12-31</th>\n",
              "      <td>13.804185</td>\n",
              "    </tr>\n",
              "    <tr>\n",
              "      <th>1997-01-31</th>\n",
              "      <td>12.849546</td>\n",
              "    </tr>\n",
              "    <tr>\n",
              "      <th>1997-02-28</th>\n",
              "      <td>15.946360</td>\n",
              "    </tr>\n",
              "    <tr>\n",
              "      <th>1997-03-31</th>\n",
              "      <td>21.279099</td>\n",
              "    </tr>\n",
              "    <tr>\n",
              "      <th>...</th>\n",
              "      <td>...</td>\n",
              "    </tr>\n",
              "    <tr>\n",
              "      <th>2016-12-31</th>\n",
              "      <td>17.676801</td>\n",
              "    </tr>\n",
              "    <tr>\n",
              "      <th>2017-01-31</th>\n",
              "      <td>15.711022</td>\n",
              "    </tr>\n",
              "    <tr>\n",
              "      <th>2017-02-28</th>\n",
              "      <td>18.349981</td>\n",
              "    </tr>\n",
              "    <tr>\n",
              "      <th>2017-03-31</th>\n",
              "      <td>23.753760</td>\n",
              "    </tr>\n",
              "    <tr>\n",
              "      <th>2017-04-30</th>\n",
              "      <td>30.753663</td>\n",
              "    </tr>\n",
              "  </tbody>\n",
              "</table>\n",
              "<p>246 rows × 1 columns</p>\n",
              "</div>"
            ],
            "text/plain": [
              "              temperature\n",
              "datetime_utc             \n",
              "1996-11-30      19.565236\n",
              "1996-12-31      13.804185\n",
              "1997-01-31      12.849546\n",
              "1997-02-28      15.946360\n",
              "1997-03-31      21.279099\n",
              "...                   ...\n",
              "2016-12-31      17.676801\n",
              "2017-01-31      15.711022\n",
              "2017-02-28      18.349981\n",
              "2017-03-31      23.753760\n",
              "2017-04-30      30.753663\n",
              "\n",
              "[246 rows x 1 columns]"
            ]
          },
          "metadata": {},
          "execution_count": 24
        }
      ]
    },
    {
      "cell_type": "code",
      "metadata": {
        "id": "_wJRsKcJVrHw"
      },
      "source": [
        "year_df=new_df.resample('Y').mean()"
      ],
      "execution_count": 25,
      "outputs": []
    },
    {
      "cell_type": "code",
      "metadata": {
        "colab": {
          "base_uri": "https://localhost:8080/",
          "height": 758
        },
        "id": "ZgzaPbNDVrLN",
        "outputId": "9474d420-867a-4131-c048-98a2fde7651f"
      },
      "source": [
        "year_df"
      ],
      "execution_count": 26,
      "outputs": [
        {
          "output_type": "execute_result",
          "data": {
            "text/html": [
              "<div>\n",
              "<style scoped>\n",
              "    .dataframe tbody tr th:only-of-type {\n",
              "        vertical-align: middle;\n",
              "    }\n",
              "\n",
              "    .dataframe tbody tr th {\n",
              "        vertical-align: top;\n",
              "    }\n",
              "\n",
              "    .dataframe thead th {\n",
              "        text-align: right;\n",
              "    }\n",
              "</style>\n",
              "<table border=\"1\" class=\"dataframe\">\n",
              "  <thead>\n",
              "    <tr style=\"text-align: right;\">\n",
              "      <th></th>\n",
              "      <th>temperature</th>\n",
              "    </tr>\n",
              "    <tr>\n",
              "      <th>datetime_utc</th>\n",
              "      <th></th>\n",
              "    </tr>\n",
              "  </thead>\n",
              "  <tbody>\n",
              "    <tr>\n",
              "      <th>1996-12-31</th>\n",
              "      <td>16.637489</td>\n",
              "    </tr>\n",
              "    <tr>\n",
              "      <th>1997-12-31</th>\n",
              "      <td>23.726028</td>\n",
              "    </tr>\n",
              "    <tr>\n",
              "      <th>1998-12-31</th>\n",
              "      <td>24.502157</td>\n",
              "    </tr>\n",
              "    <tr>\n",
              "      <th>1999-12-31</th>\n",
              "      <td>26.063898</td>\n",
              "    </tr>\n",
              "    <tr>\n",
              "      <th>2000-12-31</th>\n",
              "      <td>23.932358</td>\n",
              "    </tr>\n",
              "    <tr>\n",
              "      <th>2001-12-31</th>\n",
              "      <td>25.570254</td>\n",
              "    </tr>\n",
              "    <tr>\n",
              "      <th>2002-12-31</th>\n",
              "      <td>26.508447</td>\n",
              "    </tr>\n",
              "    <tr>\n",
              "      <th>2003-12-31</th>\n",
              "      <td>25.558486</td>\n",
              "    </tr>\n",
              "    <tr>\n",
              "      <th>2004-12-31</th>\n",
              "      <td>25.660784</td>\n",
              "    </tr>\n",
              "    <tr>\n",
              "      <th>2005-12-31</th>\n",
              "      <td>24.779318</td>\n",
              "    </tr>\n",
              "    <tr>\n",
              "      <th>2006-12-31</th>\n",
              "      <td>25.402275</td>\n",
              "    </tr>\n",
              "    <tr>\n",
              "      <th>2007-12-31</th>\n",
              "      <td>24.801689</td>\n",
              "    </tr>\n",
              "    <tr>\n",
              "      <th>2008-12-31</th>\n",
              "      <td>24.498601</td>\n",
              "    </tr>\n",
              "    <tr>\n",
              "      <th>2009-12-31</th>\n",
              "      <td>25.371710</td>\n",
              "    </tr>\n",
              "    <tr>\n",
              "      <th>2010-12-31</th>\n",
              "      <td>25.639944</td>\n",
              "    </tr>\n",
              "    <tr>\n",
              "      <th>2011-12-31</th>\n",
              "      <td>24.657973</td>\n",
              "    </tr>\n",
              "    <tr>\n",
              "      <th>2012-12-31</th>\n",
              "      <td>24.846615</td>\n",
              "    </tr>\n",
              "    <tr>\n",
              "      <th>2013-12-31</th>\n",
              "      <td>24.794766</td>\n",
              "    </tr>\n",
              "    <tr>\n",
              "      <th>2014-12-31</th>\n",
              "      <td>25.012161</td>\n",
              "    </tr>\n",
              "    <tr>\n",
              "      <th>2015-12-31</th>\n",
              "      <td>25.114271</td>\n",
              "    </tr>\n",
              "    <tr>\n",
              "      <th>2016-12-31</th>\n",
              "      <td>27.105846</td>\n",
              "    </tr>\n",
              "    <tr>\n",
              "      <th>2017-12-31</th>\n",
              "      <td>21.713119</td>\n",
              "    </tr>\n",
              "  </tbody>\n",
              "</table>\n",
              "</div>"
            ],
            "text/plain": [
              "              temperature\n",
              "datetime_utc             \n",
              "1996-12-31      16.637489\n",
              "1997-12-31      23.726028\n",
              "1998-12-31      24.502157\n",
              "1999-12-31      26.063898\n",
              "2000-12-31      23.932358\n",
              "2001-12-31      25.570254\n",
              "2002-12-31      26.508447\n",
              "2003-12-31      25.558486\n",
              "2004-12-31      25.660784\n",
              "2005-12-31      24.779318\n",
              "2006-12-31      25.402275\n",
              "2007-12-31      24.801689\n",
              "2008-12-31      24.498601\n",
              "2009-12-31      25.371710\n",
              "2010-12-31      25.639944\n",
              "2011-12-31      24.657973\n",
              "2012-12-31      24.846615\n",
              "2013-12-31      24.794766\n",
              "2014-12-31      25.012161\n",
              "2015-12-31      25.114271\n",
              "2016-12-31      27.105846\n",
              "2017-12-31      21.713119"
            ]
          },
          "metadata": {},
          "execution_count": 26
        }
      ]
    },
    {
      "cell_type": "code",
      "metadata": {
        "colab": {
          "base_uri": "https://localhost:8080/",
          "height": 471
        },
        "id": "7LsXU9aUVrOq",
        "outputId": "e2637755-fe6e-4e1a-823a-78cfa22da528"
      },
      "source": [
        "plt.figure(figsize=(25,10))\n",
        "plt.plot(range(1996,2018,1),year_df.temperature)\n",
        "plt.xlabel('Year')\n",
        "plt.ylabel('Temperature in Celseius')\n",
        "plt.grid(True)\n",
        "plt.show()"
      ],
      "execution_count": 27,
      "outputs": [
        {
          "output_type": "display_data",
          "data": {
            "image/png": "[encoded data removed]",
            "text/plain": [
              "<Figure size 1800x720 with 1 Axes>"
            ]
          },
          "metadata": {
            "needs_background": "light"
          }
        }
      ]
    },
    {
      "cell_type": "code",
      "metadata": {
        "id": "_5Dt7UjeVrSJ"
      },
      "source": [
        "# as we can see the average temperature has been increasing over the years"
      ],
      "execution_count": 29,
      "outputs": []
    },
    {
      "cell_type": "code",
      "metadata": {
        "colab": {
          "base_uri": "https://localhost:8080/",
          "height": 574
        },
        "id": "Bak321RYVrVH",
        "outputId": "dd1cf261-a05d-4acd-f6be-46780bb69177"
      },
      "source": [
        "plt.figure(figsize=(20,10))\n",
        "plt.plot(new_df)\n",
        "plt.show()"
      ],
      "execution_count": 30,
      "outputs": [
        {
          "output_type": "display_data",
          "data": {
            "image/png": "[encoded data removed]",
            "text/plain": [
              "<Figure size 1440x720 with 1 Axes>"
            ]
          },
          "metadata": {
            "needs_background": "light"
          }
        }
      ]
    },
    {
      "cell_type": "code",
      "metadata": {
        "id": "4V1kVH4KVrX4"
      },
      "source": [
        "from keras.layers import Bidirectional,LSTM,Dense,Flatten,Conv1D,MaxPooling1D,Dropout,RepeatVector\n",
        "from keras.models import Sequential\n",
        "from keras.callbacks import EarlyStopping,ReduceLROnPlateau\n",
        "\n",
        "early_stop=EarlyStopping(monitor='loss',patience=5)"
      ],
      "execution_count": 31,
      "outputs": []
    },
    {
      "cell_type": "code",
      "metadata": {
        "id": "3FtxgyArVra_"
      },
      "source": [
        "model=Sequential([Conv1D(100,kernel_size=3,input_shape=(30,1),activation='relu'),\n",
        "                  Conv1D(100,kernel_size=3),\n",
        "                  Conv1D(100,kernel_size=3),\n",
        "                  MaxPooling1D(2),\n",
        "                 Flatten(),\n",
        "                  RepeatVector(30),\n",
        "                 LSTM(128,activation='relu',return_sequences=True),\n",
        "                 LSTM(128,activation='relu',return_sequences=True),\n",
        "                  Bidirectional(LSTM(64,activation='relu')),\n",
        "                 Dense(128,activation='relu'),\n",
        "                 Dense(1)])\n",
        "\n",
        "model.compile(optimizer='adam',loss='mse',metrics=['accuracy'])"
      ],
      "execution_count": 32,
      "outputs": []
    },
    {
      "cell_type": "code",
      "metadata": {
        "id": "Trv6yNL-VreP"
      },
      "source": [
        "new_df1=pd.DataFrame(list(data[' _tempm']), index=data['datetime_utc'], columns=['temp'])"
      ],
      "execution_count": 33,
      "outputs": []
    },
    {
      "cell_type": "code",
      "metadata": {
        "colab": {
          "base_uri": "https://localhost:8080/",
          "height": 447
        },
        "id": "tS0SrI-iVrjN",
        "outputId": "3f8348b6-ba2a-4b5b-ec4d-15e4a8ad2615"
      },
      "source": [
        "new_df1"
      ],
      "execution_count": 34,
      "outputs": [
        {
          "output_type": "execute_result",
          "data": {
            "text/html": [
              "<div>\n",
              "<style scoped>\n",
              "    .dataframe tbody tr th:only-of-type {\n",
              "        vertical-align: middle;\n",
              "    }\n",
              "\n",
              "    .dataframe tbody tr th {\n",
              "        vertical-align: top;\n",
              "    }\n",
              "\n",
              "    .dataframe thead th {\n",
              "        text-align: right;\n",
              "    }\n",
              "</style>\n",
              "<table border=\"1\" class=\"dataframe\">\n",
              "  <thead>\n",
              "    <tr style=\"text-align: right;\">\n",
              "      <th></th>\n",
              "      <th>temp</th>\n",
              "    </tr>\n",
              "    <tr>\n",
              "      <th>datetime_utc</th>\n",
              "      <th></th>\n",
              "    </tr>\n",
              "  </thead>\n",
              "  <tbody>\n",
              "    <tr>\n",
              "      <th>1996-11-01 11:00:00</th>\n",
              "      <td>30.0</td>\n",
              "    </tr>\n",
              "    <tr>\n",
              "      <th>1996-11-01 12:00:00</th>\n",
              "      <td>28.0</td>\n",
              "    </tr>\n",
              "    <tr>\n",
              "      <th>1996-11-01 13:00:00</th>\n",
              "      <td>24.0</td>\n",
              "    </tr>\n",
              "    <tr>\n",
              "      <th>1996-11-01 14:00:00</th>\n",
              "      <td>24.0</td>\n",
              "    </tr>\n",
              "    <tr>\n",
              "      <th>1996-11-01 16:00:00</th>\n",
              "      <td>23.0</td>\n",
              "    </tr>\n",
              "    <tr>\n",
              "      <th>...</th>\n",
              "      <td>...</td>\n",
              "    </tr>\n",
              "    <tr>\n",
              "      <th>2017-04-24 06:00:00</th>\n",
              "      <td>34.0</td>\n",
              "    </tr>\n",
              "    <tr>\n",
              "      <th>2017-04-24 09:00:00</th>\n",
              "      <td>38.0</td>\n",
              "    </tr>\n",
              "    <tr>\n",
              "      <th>2017-04-24 12:00:00</th>\n",
              "      <td>36.0</td>\n",
              "    </tr>\n",
              "    <tr>\n",
              "      <th>2017-04-24 15:00:00</th>\n",
              "      <td>32.0</td>\n",
              "    </tr>\n",
              "    <tr>\n",
              "      <th>2017-04-24 18:00:00</th>\n",
              "      <td>30.0</td>\n",
              "    </tr>\n",
              "  </tbody>\n",
              "</table>\n",
              "<p>100990 rows × 1 columns</p>\n",
              "</div>"
            ],
            "text/plain": [
              "                     temp\n",
              "datetime_utc             \n",
              "1996-11-01 11:00:00  30.0\n",
              "1996-11-01 12:00:00  28.0\n",
              "1996-11-01 13:00:00  24.0\n",
              "1996-11-01 14:00:00  24.0\n",
              "1996-11-01 16:00:00  23.0\n",
              "...                   ...\n",
              "2017-04-24 06:00:00  34.0\n",
              "2017-04-24 09:00:00  38.0\n",
              "2017-04-24 12:00:00  36.0\n",
              "2017-04-24 15:00:00  32.0\n",
              "2017-04-24 18:00:00  30.0\n",
              "\n",
              "[100990 rows x 1 columns]"
            ]
          },
          "metadata": {},
          "execution_count": 34
        }
      ]
    },
    {
      "cell_type": "code",
      "metadata": {
        "id": "b-1vVb_eWVrp"
      },
      "source": [
        "new_df1=new_df1.resample('D').mean()"
      ],
      "execution_count": 35,
      "outputs": []
    },
    {
      "cell_type": "code",
      "metadata": {
        "colab": {
          "base_uri": "https://localhost:8080/",
          "height": 0
        },
        "id": "YU03BCWZWVvJ",
        "outputId": "5b0a05c4-ddd1-4884-af32-62f00f885239"
      },
      "source": [
        "new_df1.temp.isna().sum()"
      ],
      "execution_count": 36,
      "outputs": [
        {
          "output_type": "execute_result",
          "data": {
            "text/plain": [
              "141"
            ]
          },
          "metadata": {},
          "execution_count": 36
        }
      ]
    },
    {
      "cell_type": "code",
      "metadata": {
        "id": "Q7jXvoXEWVyg"
      },
      "source": [
        "new_df1.fillna(data[' _tempm'].mean(),inplace=True)"
      ],
      "execution_count": 37,
      "outputs": []
    },
    {
      "cell_type": "code",
      "metadata": {
        "colab": {
          "base_uri": "https://localhost:8080/",
          "height": 0
        },
        "id": "bniBCZT5WV1e",
        "outputId": "97782530-b5f5-4cd4-f88f-f3afaa4a785e"
      },
      "source": [
        "new_df1.temp.isna().sum()"
      ],
      "execution_count": 38,
      "outputs": [
        {
          "output_type": "execute_result",
          "data": {
            "text/plain": [
              "0"
            ]
          },
          "metadata": {},
          "execution_count": 38
        }
      ]
    },
    {
      "cell_type": "code",
      "metadata": {
        "id": "fWxrTh1DWV4y"
      },
      "source": [
        "from sklearn.preprocessing import MinMaxScaler\n",
        "scaler=MinMaxScaler(feature_range=(-1,1))"
      ],
      "execution_count": 39,
      "outputs": []
    },
    {
      "cell_type": "code",
      "metadata": {
        "id": "L8wN50LAWV-P"
      },
      "source": [
        "scaled_data=scaler.fit_transform(new_df1)"
      ],
      "execution_count": 40,
      "outputs": []
    },
    {
      "cell_type": "code",
      "metadata": {
        "colab": {
          "base_uri": "https://localhost:8080/",
          "height": 0
        },
        "id": "7NtH-eo3WWBo",
        "outputId": "f409c595-3b4d-43c1-8cbf-bc61a812a8c9"
      },
      "source": [
        "scaled_data[:5]"
      ],
      "execution_count": 41,
      "outputs": [
        {
          "output_type": "execute_result",
          "data": {
            "text/plain": [
              "array([[-0.07224714],\n",
              "       [-0.0391131 ],\n",
              "       [-0.10301445],\n",
              "       [-0.05015778],\n",
              "       [ 0.23826607]])"
            ]
          },
          "metadata": {},
          "execution_count": 41
        }
      ]
    },
    {
      "cell_type": "code",
      "metadata": {
        "id": "a1Bw4KCzWWFm"
      },
      "source": [
        "steps=30\n",
        "inp1=[]\n",
        "out1=[]\n",
        "\n",
        "for i in range(len(scaled_data)-steps):\n",
        "    inp1.append(scaled_data[i:i+steps])\n",
        "    out1.append(scaled_data[i+steps])\n",
        "    "
      ],
      "execution_count": 44,
      "outputs": []
    },
    {
      "cell_type": "code",
      "metadata": {
        "id": "R2MBAt4JXgAy"
      },
      "source": [
        "inp1=np.asanyarray(inp1)\n",
        "out1=np.asanyarray(out1)\n",
        "x_train1=inp1[:7300,:,:]\n",
        "x_test1=inp1[7300:,:,:]\n",
        "y_train1=out1[:7300]\n",
        "y_test1=out1[7300:]"
      ],
      "execution_count": 45,
      "outputs": []
    },
    {
      "cell_type": "code",
      "metadata": {
        "colab": {
          "base_uri": "https://localhost:8080/",
          "height": 0
        },
        "id": "9pQdJvBpXgEN",
        "outputId": "aff5d56a-599d-4a8a-c83d-b97e8cfc9393"
      },
      "source": [
        "model.fit(x_train1,y_train1,epochs=3)"
      ],
      "execution_count": 46,
      "outputs": [
        {
          "output_type": "stream",
          "name": "stdout",
          "text": [
            "Epoch 1/3\n",
            "229/229 [==============================] - 56s 225ms/step - loss: 0.0220 - accuracy: 1.3699e-04\n",
            "Epoch 2/3\n",
            "229/229 [==============================] - 52s 228ms/step - loss: 0.0114 - accuracy: 1.3699e-04\n",
            "Epoch 3/3\n",
            "229/229 [==============================] - 53s 229ms/step - loss: 0.0106 - accuracy: 1.3699e-04\n"
          ]
        },
        {
          "output_type": "execute_result",
          "data": {
            "text/plain": [
              "<keras.callbacks.History at 0x7fcb27a1f3d0>"
            ]
          },
          "metadata": {},
          "execution_count": 46
        }
      ]
    },
    {
      "cell_type": "code",
      "metadata": {
        "id": "0RWahSB0XgHZ"
      },
      "source": [
        "predicted=model.predict(x_test1)"
      ],
      "execution_count": 47,
      "outputs": []
    },
    {
      "cell_type": "code",
      "metadata": {
        "id": "CfOnRDVlXgNJ"
      },
      "source": [
        "predicted1=scaler.inverse_transform(predicted)"
      ],
      "execution_count": 48,
      "outputs": []
    },
    {
      "cell_type": "code",
      "metadata": {
        "id": "ZPjq2f1LXgQN"
      },
      "source": [
        "y_test2=scaler.inverse_transform(y_test1)"
      ],
      "execution_count": 49,
      "outputs": []
    },
    {
      "cell_type": "code",
      "metadata": {
        "colab": {
          "base_uri": "https://localhost:8080/",
          "height": 320
        },
        "id": "XFDigP7QXgUG",
        "outputId": "e9d8c4d4-aba9-4c51-8b56-c5432ab0958e"
      },
      "source": [
        "plt.figure(figsize=(10,5))\n",
        "plt.plot(predicted1,'r',label='predicted')\n",
        "plt.plot(y_test2,'b',label='actual')\n",
        "plt.legend()\n",
        "plt.show()"
      ],
      "execution_count": 50,
      "outputs": [
        {
          "output_type": "display_data",
          "data": {
            "image/png": "[encoded data removed]",
            "text/plain": [
              "<Figure size 720x360 with 1 Axes>"
            ]
          },
          "metadata": {
            "needs_background": "light"
          }
        }
      ]
    },
    {
      "cell_type": "code",
      "metadata": {
        "colab": {
          "base_uri": "https://localhost:8080/",
          "height": 0
        },
        "id": "P4qdCkcRXgXX",
        "outputId": "74f9e456-0706-422e-e8f3-46b007ec0476"
      },
      "source": [
        "from sklearn.metrics import mean_squared_error\n",
        "mean_squared_error(predicted1, y_test2)"
      ],
      "execution_count": 51,
      "outputs": [
        {
          "output_type": "execute_result",
          "data": {
            "text/plain": [
              "2.8031967295748412"
            ]
          },
          "metadata": {},
          "execution_count": 51
        }
      ]
    }
  ]
}